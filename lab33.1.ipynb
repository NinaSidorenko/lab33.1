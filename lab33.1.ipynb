{
 "cells": [
  {
   "cell_type": "markdown",
   "id": "6cbc60e1",
   "metadata": {},
   "source": [
    "# Лабораторная работа 33.1"
   ]
  },
  {
   "cell_type": "markdown",
   "id": "33f10e9c",
   "metadata": {},
   "source": [
    "## Определение индукции магнитного поля на оси кругового тока"
   ]
  },
  {
   "cell_type": "markdown",
   "id": "1c0b3a11",
   "metadata": {},
   "source": [
    "## Теоретическое введение"
   ]
  },
  {
   "cell_type": "markdown",
   "id": "3ebd66ab",
   "metadata": {},
   "source": [
    "Для исследования магнитного поля используют замкнутый контур с током (рамку с током), размеры которого малы по сравнению с расстоянием до токов, образующих магнитное поле. Ориентация контура в пространстве характеризуется направлением нормали $\\overrightarrow{n}$ к плоскости контура. За положительное направление нормали $\\overrightarrow{n}$ принимается направление, связанное с направлением тока в контуре правилом правого винта."
   ]
  },
  {
   "cell_type": "markdown",
   "id": "ac8f90be",
   "metadata": {},
   "source": [
    "Физической величиной, характеризующей контур с током, является магнитный момент:\n",
    "$\\overrightarrow{p_m}=IS\\overrightarrow{n}$"
   ]
  },
  {
   "cell_type": "markdown",
   "id": "6f7d05fd",
   "metadata": {},
   "source": [
    "Вращающий момент сил $\\overrightarrow{M}$ зависит от свойств поля в данной точке и от свойств контура (рамки) и определяется формулой: $\\overrightarrow{M}=[\\overrightarrow{p_m}, \\overrightarrow{B}]$"
   ]
  },
  {
   "cell_type": "markdown",
   "id": "7a199960",
   "metadata": {},
   "source": [
    "$\\overrightarrow{B}$- вектор магнитной индукции, являющийся количественной силовой характеристикой магнитного поля"
   ]
  },
  {
   "cell_type": "markdown",
   "id": "ec1b089f",
   "metadata": {},
   "source": [
    "$M=p_mB\\sin\\alpha$, $\\alpha$ - угол между векторами $\\overrightarrow{p_m},\\overrightarrow{B}$. $M=M_{max}$ при $\\alpha=90$ т.е. когда нормаль к рамке перпендикулярна вектору $\\overrightarrow{B}$."
   ]
  },
  {
   "cell_type": "markdown",
   "id": "94a011f1",
   "metadata": {},
   "source": [
    "Магнитная индукция $\\overrightarrow{B}$ в данной точке магнитного поля численно равна максимальному вращающему моменту, действующему на рамку с током, магнитный момент которой равен единице."
   ]
  },
  {
   "cell_type": "markdown",
   "id": "bf98780a",
   "metadata": {},
   "source": [
    "Принцип супперпозиций:"
   ]
  },
  {
   "cell_type": "markdown",
   "id": "81b5acac",
   "metadata": {},
   "source": [
    "$\\overrightarrow{B}=\\overrightarrow{B_1}+\\overrightarrow{B_2}+...+\\overrightarrow{B_n}=\\sum_{i=1}^n\\overrightarrow{B_i}$"
   ]
  },
  {
   "cell_type": "markdown",
   "id": "948f3e56",
   "metadata": {},
   "source": [
    "Закон Био-Савара-Лапласа:"
   ]
  },
  {
   "cell_type": "markdown",
   "id": "82782833",
   "metadata": {},
   "source": [
    "$d\\overrightarrow{B}=\\frac{\\mu\\mu_0}{4\\pi}\\frac{I[d\\overrightarrow{l}, \\overrightarrow{r}]}{r^3}$"
   ]
  },
  {
   "cell_type": "markdown",
   "id": "d2421274",
   "metadata": {},
   "source": [
    "где $\\overrightarrow{r}$ - радиус-вектор, проведенный от элемента $d\\overrightarrow{l}$ проводника в точку A поля, $\\mu$ - магнитная \n",
    "проницаемость среды, окружающей проводник с током, $\\mu_0=4\\pi*10^{-7}\\frac{Гн}{м}$ – магнитная постоянная."
   ]
  },
  {
   "cell_type": "markdown",
   "id": "672bc954",
   "metadata": {},
   "source": [
    "Для графического изображения магнитных полей используются линии \n",
    "магнитной индукции (силовые линии магнитного поля). Линией магнитной \n",
    "индукции называют линию, в каждой точке которой вектор магнитной \n",
    "индукции направлен по касательной к ней. Их направление определяется \n",
    "правилом правого винта."
   ]
  },
  {
   "cell_type": "markdown",
   "id": "71369b97",
   "metadata": {},
   "source": [
    "Напряженностью магнитного поля $\\overrightarrow{H}$ называют векторную величину, которая в случае однородной изотропной среды связана с индукцией магнитного поля соотношением: $\\overrightarrow{B}=\\mu\\mu_0\\overrightarrow{H}$"
   ]
  },
  {
   "cell_type": "markdown",
   "id": "37cd199f",
   "metadata": {},
   "source": [
    "Закон о циркуляции вектора $\\overrightarrow{H}$: $\\oint_LH_ldl=\\sum_kI_k$"
   ]
  },
  {
   "cell_type": "markdown",
   "id": "0cdf436a",
   "metadata": {},
   "source": [
    "$\\sum_kI_k$ -алгебраическая сумма сил токов, охватываемых контуром, \n",
    "H"
   ]
  },
  {
   "cell_type": "markdown",
   "id": "e5b793c6",
   "metadata": {},
   "source": [
    "Потоком вектора индукции (магнитным потоком) через поверхность S называется скалярная величина: $\\Phi=\\int_SB_ndS=\\int\\overrightarrow{B}d\\overrightarrow{S}$"
   ]
  },
  {
   "cell_type": "markdown",
   "id": "05557ca1",
   "metadata": {},
   "source": [
    "Закон электромагнитной индукции. Явление электромагнитной \n",
    "индукции состоит в том, что в замкнутом проводящем контуре при \n",
    "изменении потока магнитной индукции через поверхность, охватываемую \n",
    "этим контуром, возникает электрический ток, получивший название \n",
    "индукционного."
   ]
  },
  {
   "cell_type": "markdown",
   "id": "bc76706a",
   "metadata": {},
   "source": [
    "Электродвижущая сила индукции:"
   ]
  },
  {
   "cell_type": "markdown",
   "id": "55eeb8b9",
   "metadata": {},
   "source": [
    "$\\varepsilon_i=-\\frac{d\\Phi}{dt}$"
   ]
  },
  {
   "cell_type": "markdown",
   "id": "6ec5b252",
   "metadata": {},
   "source": [
    "Направление индукционного тока определяется правилом Ленца: \n",
    "индукционный ток направлен так, чтобы своим магнитным полем \n",
    "противодействовать изменению магнитного потока, которым он вызван."
   ]
  },
  {
   "cell_type": "markdown",
   "id": "e33c45f6",
   "metadata": {},
   "source": [
    "Индукция магнитного поля на оси кругового тока:"
   ]
  },
  {
   "cell_type": "markdown",
   "id": "c76267bf",
   "metadata": {},
   "source": [
    "Каждый элемент $d\\overrightarrow{l}$ кругового тока I создает в точке  A на его оси магнитное поле, индукция dB которого : $dB=\\frac{\\mu\\mu_0}{4\\pi}\\frac{Idl}{r^2}$"
   ]
  },
  {
   "cell_type": "markdown",
   "id": "67d3069a",
   "metadata": {},
   "source": [
    "Индукция $d\\overrightarrow{B_1}$ магнитного поля, создаваемого двумя одинаковыми диаметрально противоположными элементами $d\\overrightarrow{l}:\\\\\n",
    "dB_1=2dB\\cos\\alpha=\\frac{\\mu\\mu_0}{2\\pi}\\frac{Ir_0dl}{r^3}=\\frac{\\mu\\mu_0}{2\\pi}\\frac{Ir_0dl}{\\sqrt{(r_0^2+x^2)^3}}$"
   ]
  },
  {
   "cell_type": "markdown",
   "id": "05771b45",
   "metadata": {},
   "source": [
    "$r_0$ - радиус кольцевой катушки"
   ]
  },
  {
   "cell_type": "markdown",
   "id": "2ba8abbc",
   "metadata": {},
   "source": [
    "Модуль результирующего вектора $\\overrightarrow{B}$ равен: $\\\\\n",
    "B= \\frac{\\mu\\mu_0}{2\\pi}\\int_0^{\\pi r_0}\\frac{Ir_0dl}{r^3}=\\frac{\\mu\\mu_0}{2\\pi}\\frac{Ir_0^2dl}{2r^3}\\int_0^{\\pi r_0}dl=\\mu\\mu_0\\frac{Ir_0dl}{2r^3}=\\mu\\mu_0\\frac{I}{2r^3}\\sin^3\\beta$"
   ]
  },
  {
   "cell_type": "markdown",
   "id": "48337e51",
   "metadata": {},
   "source": [
    "## Отчёт по коду"
   ]
  },
  {
   "cell_type": "markdown",
   "id": "c7aa5fac",
   "metadata": {},
   "source": [
    "В ходе написания кода для лабораторной работы были обработаны данные из таблица в файле с расширением csv. Данные были собраны в массив, по нима были найдены средние значения отклонения и необходимые величины. После все данные были собраны и выведены в качестве таблицы."
   ]
  },
  {
   "cell_type": "markdown",
   "id": "85de88ba",
   "metadata": {},
   "source": [
    "Также были построены все необходимые графики с описаниями и легендами."
   ]
  },
  {
   "cell_type": "markdown",
   "id": "c95c1241",
   "metadata": {},
   "source": [
    "### Препроцессинг данных"
   ]
  },
  {
   "cell_type": "markdown",
   "id": "123ac926",
   "metadata": {},
   "source": [
    "Код подключает необходимые библиотеки и проводит обработку данных из таблиц с данными для работы со значениями силы тока и напряжения, полученных при эксперименте."
   ]
  },
  {
   "cell_type": "code",
   "execution_count": 80,
   "id": "ce244436",
   "metadata": {},
   "outputs": [],
   "source": [
    "from csv import *\n",
    "import pandas as pd\n",
    "import matplotlib.pyplot as plt\n",
    "import numpy as np\n",
    "import math"
   ]
  },
  {
   "cell_type": "code",
   "execution_count": 58,
   "id": "c9163479",
   "metadata": {},
   "outputs": [],
   "source": [
    "def read_csv_file (path):\n",
    "    with open (file_path, 'r') as file:\n",
    "        data = file.readlines()\n",
    "    return data\n",
    "\n",
    "def preprocessing_data(data):\n",
    "    data = data [1:]\n",
    "    for i in range (len(data)):\n",
    "        data[i] = data[i].split(';')\n",
    "        for j in range (len(data[i])-1):\n",
    "            data[i][j] = float (data[i][j])\n",
    "        data[i][len(data[i])-1] = float (data[i][len(data[i])-1][:-1])\n",
    "    return data"
   ]
  },
  {
   "cell_type": "markdown",
   "id": "cd8ebf8b",
   "metadata": {},
   "source": [
    "### Задание 1"
   ]
  },
  {
   "cell_type": "markdown",
   "id": "98b40a64",
   "metadata": {},
   "source": [
    "Исследование зависимости индукции магнитного поля на оси \n",
    "кольцевой катушки от расстояния x от ее центра (B = f (x)) при различных значениях силы тока в катушке."
   ]
  },
  {
   "cell_type": "code",
   "execution_count": 59,
   "id": "1a61879f",
   "metadata": {},
   "outputs": [
    {
     "name": "stdout",
     "output_type": "stream",
     "text": [
      "[[0.2, 0.0, 44.0, 41.0, 42.0, 44.0], [0.2, 20.0, 42.0, 40.0, 42.0, 39.0], [0.2, 50.0, 33.0, 32.0, 32.0, 30.0], [0.2, 100.0, 19.0, 21.0, 15.0, 15.0], [0.2, 150.0, 10.0, 7.0, 5.0, 6.0], [0.2, 200.0, 6.0, 7.0, 3.0, 3.0], [0.2, 250.0, 4.0, 6.0, 2.0, 2.0], [0.4, 0.0, 200.0, 190.0, 200.0, 220.0], [0.4, 20.0, 200.0, 170.0, 180.0, 160.0], [0.4, 50.0, 130.0, 160.0, 100.0, 110.0], [0.4, 100.0, 150.0, 90.0, 60.0, 60.0], [0.4, 150.0, 90.0, 50.0, 40.0, 30.0], [0.4, 200.0, 20.0, 20.0, 20.0, 20.0], [0.4, 250.0, 10.0, 20.0, 20.0, 20.0], [0.6, 0.0, 290.0, 280.0, 300.0, 380.0], [0.6, 20.0, 270.0, 270.0, 280.0, 270.0], [0.6, 50.0, 210.0, 230.0, 190.0, 210.0], [0.6, 100.0, 120.0, 120.0, 100.0, 110.0], [0.6, 150.0, 70.0, 70.0, 40.0, 30.0], [0.6, 200.0, 20.0, 20.0, 20.0, 20.0], [0.6, 250.0, 20.0, 30.0, 20.0, 10.0]]\n"
     ]
    }
   ],
   "source": [
    "file_path = \"33.1_tab1.csv\"\n",
    "data = read_csv_file (file_path)\n",
    "\n",
    "data = preprocessing_data(data)\n",
    "print (data)"
   ]
  },
  {
   "cell_type": "markdown",
   "id": "907ade7e",
   "metadata": {},
   "source": [
    "Подсчёт среднего значения отброса:"
   ]
  },
  {
   "cell_type": "code",
   "execution_count": 60,
   "id": "fbccd7f3",
   "metadata": {},
   "outputs": [
    {
     "name": "stdout",
     "output_type": "stream",
     "text": [
      "[[0.2, 0.0, 44.0, 41.0, 42.0, 44.0, 42.75], [0.2, 20.0, 42.0, 40.0, 42.0, 39.0, 40.75], [0.2, 50.0, 33.0, 32.0, 32.0, 30.0, 31.75], [0.2, 100.0, 19.0, 21.0, 15.0, 15.0, 17.5], [0.2, 150.0, 10.0, 7.0, 5.0, 6.0, 7.0], [0.2, 200.0, 6.0, 7.0, 3.0, 3.0, 4.75], [0.2, 250.0, 4.0, 6.0, 2.0, 2.0, 3.5], [0.4, 0.0, 200.0, 190.0, 200.0, 220.0, 202.5], [0.4, 20.0, 200.0, 170.0, 180.0, 160.0, 177.5], [0.4, 50.0, 130.0, 160.0, 100.0, 110.0, 125.0], [0.4, 100.0, 150.0, 90.0, 60.0, 60.0, 90.0], [0.4, 150.0, 90.0, 50.0, 40.0, 30.0, 52.5], [0.4, 200.0, 20.0, 20.0, 20.0, 20.0, 20.0], [0.4, 250.0, 10.0, 20.0, 20.0, 20.0, 17.5], [0.6, 0.0, 290.0, 280.0, 300.0, 380.0, 312.5], [0.6, 20.0, 270.0, 270.0, 280.0, 270.0, 272.5], [0.6, 50.0, 210.0, 230.0, 190.0, 210.0, 210.0], [0.6, 100.0, 120.0, 120.0, 100.0, 110.0, 112.5], [0.6, 150.0, 70.0, 70.0, 40.0, 30.0, 52.5], [0.6, 200.0, 20.0, 20.0, 20.0, 20.0, 20.0], [0.6, 250.0, 20.0, 30.0, 20.0, 10.0, 20.0]]\n"
     ]
    }
   ],
   "source": [
    "for i in data:\n",
    "    average_m = (i[2]+i[3]+i[4]+i[5])/4\n",
    "    i.append (average_m)\n",
    "print (data)"
   ]
  },
  {
   "cell_type": "markdown",
   "id": "ce19e932",
   "metadata": {},
   "source": [
    "Формула для подсчёта значения индукции магнитного поля:"
   ]
  },
  {
   "cell_type": "markdown",
   "id": "f38c80c2",
   "metadata": {},
   "source": [
    "$ B = ak<m> $"
   ]
  },
  {
   "cell_type": "markdown",
   "id": "51716e9d",
   "metadata": {},
   "source": [
    "Постоянные для подсчёта значения индукции магнитного поля:"
   ]
  },
  {
   "cell_type": "markdown",
   "id": "acefd3d5",
   "metadata": {},
   "source": [
    "$a = 2.04 Ом\\м^2$"
   ]
  },
  {
   "cell_type": "markdown",
   "id": "2e37be6f",
   "metadata": {},
   "source": [
    "$k=0.42*10^{-5}Кл\\дел$"
   ]
  },
  {
   "cell_type": "code",
   "execution_count": 61,
   "id": "de19c0ec",
   "metadata": {},
   "outputs": [
    {
     "name": "stdout",
     "output_type": "stream",
     "text": [
      "[[0.2, 0.0, 44.0, 41.0, 42.0, 44.0, 42.75, 0.00036628200000000006], [0.2, 20.0, 42.0, 40.0, 42.0, 39.0, 40.75, 0.00034914600000000005], [0.2, 50.0, 33.0, 32.0, 32.0, 30.0, 31.75, 0.00027203400000000005], [0.2, 100.0, 19.0, 21.0, 15.0, 15.0, 17.5, 0.00014994000000000002], [0.2, 150.0, 10.0, 7.0, 5.0, 6.0, 7.0, 5.997600000000001e-05], [0.2, 200.0, 6.0, 7.0, 3.0, 3.0, 4.75, 4.069800000000001e-05], [0.2, 250.0, 4.0, 6.0, 2.0, 2.0, 3.5, 2.9988000000000005e-05], [0.4, 0.0, 200.0, 190.0, 200.0, 220.0, 202.5, 0.0017350200000000003], [0.4, 20.0, 200.0, 170.0, 180.0, 160.0, 177.5, 0.0015208200000000002], [0.4, 50.0, 130.0, 160.0, 100.0, 110.0, 125.0, 0.0010710000000000001], [0.4, 100.0, 150.0, 90.0, 60.0, 60.0, 90.0, 0.0007711200000000001], [0.4, 150.0, 90.0, 50.0, 40.0, 30.0, 52.5, 0.0004498200000000001], [0.4, 200.0, 20.0, 20.0, 20.0, 20.0, 20.0, 0.00017136000000000004], [0.4, 250.0, 10.0, 20.0, 20.0, 20.0, 17.5, 0.00014994000000000002], [0.6, 0.0, 290.0, 280.0, 300.0, 380.0, 312.5, 0.0026775000000000006], [0.6, 20.0, 270.0, 270.0, 280.0, 270.0, 272.5, 0.0023347800000000003], [0.6, 50.0, 210.0, 230.0, 190.0, 210.0, 210.0, 0.0017992800000000003], [0.6, 100.0, 120.0, 120.0, 100.0, 110.0, 112.5, 0.0009639000000000002], [0.6, 150.0, 70.0, 70.0, 40.0, 30.0, 52.5, 0.0004498200000000001], [0.6, 200.0, 20.0, 20.0, 20.0, 20.0, 20.0, 0.00017136000000000004], [0.6, 250.0, 20.0, 30.0, 20.0, 10.0, 20.0, 0.00017136000000000004]]\n"
     ]
    }
   ],
   "source": [
    "a = 2.04\n",
    "k = 0.42*10**(-5)\n",
    "\n",
    "for i in data:\n",
    "    B = a*k*i[-1]\n",
    "    i.append(B)\n",
    "\n",
    "print (data)"
   ]
  },
  {
   "cell_type": "code",
   "execution_count": 62,
   "id": "6a8cc817",
   "metadata": {},
   "outputs": [],
   "source": [
    "columns = ['I, A', 'x, мм', 'm влево 1, дел', 'm влево 2, дел', 'm вправо 1, дел','m вправо 2, дел','<m>, дел', 'B, Тл']\n",
    "tab = pd.DataFrame(columns=columns)\n",
    "for i in range(len(data)):\n",
    "    line = data[i]\n",
    "    temp_df = pd.DataFrame([line], columns=columns)\n",
    "    tab = pd.concat([tab, temp_df], ignore_index=True)"
   ]
  },
  {
   "cell_type": "markdown",
   "id": "8849c645",
   "metadata": {},
   "source": [
    "Таблица с результатами:"
   ]
  },
  {
   "cell_type": "code",
   "execution_count": 63,
   "id": "fde9f3da",
   "metadata": {},
   "outputs": [
    {
     "data": {
      "text/html": [
       "<div>\n",
       "<style scoped>\n",
       "    .dataframe tbody tr th:only-of-type {\n",
       "        vertical-align: middle;\n",
       "    }\n",
       "\n",
       "    .dataframe tbody tr th {\n",
       "        vertical-align: top;\n",
       "    }\n",
       "\n",
       "    .dataframe thead th {\n",
       "        text-align: right;\n",
       "    }\n",
       "</style>\n",
       "<table border=\"1\" class=\"dataframe\">\n",
       "  <thead>\n",
       "    <tr style=\"text-align: right;\">\n",
       "      <th></th>\n",
       "      <th>I, A</th>\n",
       "      <th>x, мм</th>\n",
       "      <th>m влево 1, дел</th>\n",
       "      <th>m влево 2, дел</th>\n",
       "      <th>m вправо 1, дел</th>\n",
       "      <th>m вправо 2, дел</th>\n",
       "      <th>&lt;m&gt;, дел</th>\n",
       "      <th>B, Тл</th>\n",
       "    </tr>\n",
       "  </thead>\n",
       "  <tbody>\n",
       "    <tr>\n",
       "      <th>0</th>\n",
       "      <td>0.2</td>\n",
       "      <td>0.0</td>\n",
       "      <td>44.0</td>\n",
       "      <td>41.0</td>\n",
       "      <td>42.0</td>\n",
       "      <td>44.0</td>\n",
       "      <td>42.75</td>\n",
       "      <td>0.000366</td>\n",
       "    </tr>\n",
       "    <tr>\n",
       "      <th>1</th>\n",
       "      <td>0.2</td>\n",
       "      <td>20.0</td>\n",
       "      <td>42.0</td>\n",
       "      <td>40.0</td>\n",
       "      <td>42.0</td>\n",
       "      <td>39.0</td>\n",
       "      <td>40.75</td>\n",
       "      <td>0.000349</td>\n",
       "    </tr>\n",
       "    <tr>\n",
       "      <th>2</th>\n",
       "      <td>0.2</td>\n",
       "      <td>50.0</td>\n",
       "      <td>33.0</td>\n",
       "      <td>32.0</td>\n",
       "      <td>32.0</td>\n",
       "      <td>30.0</td>\n",
       "      <td>31.75</td>\n",
       "      <td>0.000272</td>\n",
       "    </tr>\n",
       "    <tr>\n",
       "      <th>3</th>\n",
       "      <td>0.2</td>\n",
       "      <td>100.0</td>\n",
       "      <td>19.0</td>\n",
       "      <td>21.0</td>\n",
       "      <td>15.0</td>\n",
       "      <td>15.0</td>\n",
       "      <td>17.50</td>\n",
       "      <td>0.000150</td>\n",
       "    </tr>\n",
       "    <tr>\n",
       "      <th>4</th>\n",
       "      <td>0.2</td>\n",
       "      <td>150.0</td>\n",
       "      <td>10.0</td>\n",
       "      <td>7.0</td>\n",
       "      <td>5.0</td>\n",
       "      <td>6.0</td>\n",
       "      <td>7.00</td>\n",
       "      <td>0.000060</td>\n",
       "    </tr>\n",
       "    <tr>\n",
       "      <th>5</th>\n",
       "      <td>0.2</td>\n",
       "      <td>200.0</td>\n",
       "      <td>6.0</td>\n",
       "      <td>7.0</td>\n",
       "      <td>3.0</td>\n",
       "      <td>3.0</td>\n",
       "      <td>4.75</td>\n",
       "      <td>0.000041</td>\n",
       "    </tr>\n",
       "    <tr>\n",
       "      <th>6</th>\n",
       "      <td>0.2</td>\n",
       "      <td>250.0</td>\n",
       "      <td>4.0</td>\n",
       "      <td>6.0</td>\n",
       "      <td>2.0</td>\n",
       "      <td>2.0</td>\n",
       "      <td>3.50</td>\n",
       "      <td>0.000030</td>\n",
       "    </tr>\n",
       "    <tr>\n",
       "      <th>7</th>\n",
       "      <td>0.4</td>\n",
       "      <td>0.0</td>\n",
       "      <td>200.0</td>\n",
       "      <td>190.0</td>\n",
       "      <td>200.0</td>\n",
       "      <td>220.0</td>\n",
       "      <td>202.50</td>\n",
       "      <td>0.001735</td>\n",
       "    </tr>\n",
       "    <tr>\n",
       "      <th>8</th>\n",
       "      <td>0.4</td>\n",
       "      <td>20.0</td>\n",
       "      <td>200.0</td>\n",
       "      <td>170.0</td>\n",
       "      <td>180.0</td>\n",
       "      <td>160.0</td>\n",
       "      <td>177.50</td>\n",
       "      <td>0.001521</td>\n",
       "    </tr>\n",
       "    <tr>\n",
       "      <th>9</th>\n",
       "      <td>0.4</td>\n",
       "      <td>50.0</td>\n",
       "      <td>130.0</td>\n",
       "      <td>160.0</td>\n",
       "      <td>100.0</td>\n",
       "      <td>110.0</td>\n",
       "      <td>125.00</td>\n",
       "      <td>0.001071</td>\n",
       "    </tr>\n",
       "    <tr>\n",
       "      <th>10</th>\n",
       "      <td>0.4</td>\n",
       "      <td>100.0</td>\n",
       "      <td>150.0</td>\n",
       "      <td>90.0</td>\n",
       "      <td>60.0</td>\n",
       "      <td>60.0</td>\n",
       "      <td>90.00</td>\n",
       "      <td>0.000771</td>\n",
       "    </tr>\n",
       "    <tr>\n",
       "      <th>11</th>\n",
       "      <td>0.4</td>\n",
       "      <td>150.0</td>\n",
       "      <td>90.0</td>\n",
       "      <td>50.0</td>\n",
       "      <td>40.0</td>\n",
       "      <td>30.0</td>\n",
       "      <td>52.50</td>\n",
       "      <td>0.000450</td>\n",
       "    </tr>\n",
       "    <tr>\n",
       "      <th>12</th>\n",
       "      <td>0.4</td>\n",
       "      <td>200.0</td>\n",
       "      <td>20.0</td>\n",
       "      <td>20.0</td>\n",
       "      <td>20.0</td>\n",
       "      <td>20.0</td>\n",
       "      <td>20.00</td>\n",
       "      <td>0.000171</td>\n",
       "    </tr>\n",
       "    <tr>\n",
       "      <th>13</th>\n",
       "      <td>0.4</td>\n",
       "      <td>250.0</td>\n",
       "      <td>10.0</td>\n",
       "      <td>20.0</td>\n",
       "      <td>20.0</td>\n",
       "      <td>20.0</td>\n",
       "      <td>17.50</td>\n",
       "      <td>0.000150</td>\n",
       "    </tr>\n",
       "    <tr>\n",
       "      <th>14</th>\n",
       "      <td>0.6</td>\n",
       "      <td>0.0</td>\n",
       "      <td>290.0</td>\n",
       "      <td>280.0</td>\n",
       "      <td>300.0</td>\n",
       "      <td>380.0</td>\n",
       "      <td>312.50</td>\n",
       "      <td>0.002678</td>\n",
       "    </tr>\n",
       "    <tr>\n",
       "      <th>15</th>\n",
       "      <td>0.6</td>\n",
       "      <td>20.0</td>\n",
       "      <td>270.0</td>\n",
       "      <td>270.0</td>\n",
       "      <td>280.0</td>\n",
       "      <td>270.0</td>\n",
       "      <td>272.50</td>\n",
       "      <td>0.002335</td>\n",
       "    </tr>\n",
       "    <tr>\n",
       "      <th>16</th>\n",
       "      <td>0.6</td>\n",
       "      <td>50.0</td>\n",
       "      <td>210.0</td>\n",
       "      <td>230.0</td>\n",
       "      <td>190.0</td>\n",
       "      <td>210.0</td>\n",
       "      <td>210.00</td>\n",
       "      <td>0.001799</td>\n",
       "    </tr>\n",
       "    <tr>\n",
       "      <th>17</th>\n",
       "      <td>0.6</td>\n",
       "      <td>100.0</td>\n",
       "      <td>120.0</td>\n",
       "      <td>120.0</td>\n",
       "      <td>100.0</td>\n",
       "      <td>110.0</td>\n",
       "      <td>112.50</td>\n",
       "      <td>0.000964</td>\n",
       "    </tr>\n",
       "    <tr>\n",
       "      <th>18</th>\n",
       "      <td>0.6</td>\n",
       "      <td>150.0</td>\n",
       "      <td>70.0</td>\n",
       "      <td>70.0</td>\n",
       "      <td>40.0</td>\n",
       "      <td>30.0</td>\n",
       "      <td>52.50</td>\n",
       "      <td>0.000450</td>\n",
       "    </tr>\n",
       "    <tr>\n",
       "      <th>19</th>\n",
       "      <td>0.6</td>\n",
       "      <td>200.0</td>\n",
       "      <td>20.0</td>\n",
       "      <td>20.0</td>\n",
       "      <td>20.0</td>\n",
       "      <td>20.0</td>\n",
       "      <td>20.00</td>\n",
       "      <td>0.000171</td>\n",
       "    </tr>\n",
       "    <tr>\n",
       "      <th>20</th>\n",
       "      <td>0.6</td>\n",
       "      <td>250.0</td>\n",
       "      <td>20.0</td>\n",
       "      <td>30.0</td>\n",
       "      <td>20.0</td>\n",
       "      <td>10.0</td>\n",
       "      <td>20.00</td>\n",
       "      <td>0.000171</td>\n",
       "    </tr>\n",
       "  </tbody>\n",
       "</table>\n",
       "</div>"
      ],
      "text/plain": [
       "    I, A  x, мм  m влево 1, дел  m влево 2, дел  m вправо 1, дел  \\\n",
       "0    0.2    0.0            44.0            41.0             42.0   \n",
       "1    0.2   20.0            42.0            40.0             42.0   \n",
       "2    0.2   50.0            33.0            32.0             32.0   \n",
       "3    0.2  100.0            19.0            21.0             15.0   \n",
       "4    0.2  150.0            10.0             7.0              5.0   \n",
       "5    0.2  200.0             6.0             7.0              3.0   \n",
       "6    0.2  250.0             4.0             6.0              2.0   \n",
       "7    0.4    0.0           200.0           190.0            200.0   \n",
       "8    0.4   20.0           200.0           170.0            180.0   \n",
       "9    0.4   50.0           130.0           160.0            100.0   \n",
       "10   0.4  100.0           150.0            90.0             60.0   \n",
       "11   0.4  150.0            90.0            50.0             40.0   \n",
       "12   0.4  200.0            20.0            20.0             20.0   \n",
       "13   0.4  250.0            10.0            20.0             20.0   \n",
       "14   0.6    0.0           290.0           280.0            300.0   \n",
       "15   0.6   20.0           270.0           270.0            280.0   \n",
       "16   0.6   50.0           210.0           230.0            190.0   \n",
       "17   0.6  100.0           120.0           120.0            100.0   \n",
       "18   0.6  150.0            70.0            70.0             40.0   \n",
       "19   0.6  200.0            20.0            20.0             20.0   \n",
       "20   0.6  250.0            20.0            30.0             20.0   \n",
       "\n",
       "    m вправо 2, дел  <m>, дел     B, Тл  \n",
       "0              44.0     42.75  0.000366  \n",
       "1              39.0     40.75  0.000349  \n",
       "2              30.0     31.75  0.000272  \n",
       "3              15.0     17.50  0.000150  \n",
       "4               6.0      7.00  0.000060  \n",
       "5               3.0      4.75  0.000041  \n",
       "6               2.0      3.50  0.000030  \n",
       "7             220.0    202.50  0.001735  \n",
       "8             160.0    177.50  0.001521  \n",
       "9             110.0    125.00  0.001071  \n",
       "10             60.0     90.00  0.000771  \n",
       "11             30.0     52.50  0.000450  \n",
       "12             20.0     20.00  0.000171  \n",
       "13             20.0     17.50  0.000150  \n",
       "14            380.0    312.50  0.002678  \n",
       "15            270.0    272.50  0.002335  \n",
       "16            210.0    210.00  0.001799  \n",
       "17            110.0    112.50  0.000964  \n",
       "18             30.0     52.50  0.000450  \n",
       "19             20.0     20.00  0.000171  \n",
       "20             10.0     20.00  0.000171  "
      ]
     },
     "execution_count": 63,
     "metadata": {},
     "output_type": "execute_result"
    }
   ],
   "source": [
    "tab"
   ]
  },
  {
   "cell_type": "markdown",
   "id": "17c2a7e5",
   "metadata": {},
   "source": [
    "Графики B = f(x) при I = 0,2 (синий), I = 0,4 (оранжевый), I = 0,6 (зелёный)"
   ]
  },
  {
   "cell_type": "code",
   "execution_count": 64,
   "id": "3ef5b770",
   "metadata": {},
   "outputs": [
    {
     "data": {
      "text/plain": [
       "<matplotlib.legend.Legend at 0x1ace38eafd0>"
      ]
     },
     "execution_count": 64,
     "metadata": {},
     "output_type": "execute_result"
    },
    {
     "data": {
      "image/png": "[encoded data removed]",
      "text/plain": [
       "<Figure size 640x480 with 1 Axes>"
      ]
     },
     "metadata": {},
     "output_type": "display_data"
    }
   ],
   "source": [
    "x2 = []\n",
    "B2 = []\n",
    "\n",
    "x4 = []\n",
    "B4 = []\n",
    "\n",
    "x6 = []\n",
    "B6 = []\n",
    "\n",
    "for i in data:\n",
    "    if i[0] == 0.2:\n",
    "        x2.append (i[1])\n",
    "        B2.append (i[-1])\n",
    "    if i[0] == 0.4:\n",
    "        x4.append (i[1])\n",
    "        B4.append (i[-1])\n",
    "    if i[0] == 0.6:\n",
    "        x6.append (i[1])\n",
    "        B6.append (i[-1])\n",
    "        \n",
    "plt.plot (x2, B2)\n",
    "plt.plot (x4, B4)\n",
    "plt.plot (x6, B6)\n",
    "\n",
    "plt.xlabel (\"Расстояние, мм\")\n",
    "plt.ylabel (\"Индукция магнитного поля, Тл\")\n",
    "\n",
    "plt.legend ([\"I=0,2 experiment\",\"I=0,4 experiment\", \"I=0,6 experiment\"])"
   ]
  },
  {
   "cell_type": "markdown",
   "id": "1566fbba",
   "metadata": {},
   "source": [
    "Формула для подсчёта теоретической зависимости B = f(x):"
   ]
  },
  {
   "cell_type": "markdown",
   "id": "0cebc13d",
   "metadata": {},
   "source": [
    "$B = \\frac{\\mu_0IN}{2r_0}\\sin^3\\beta$"
   ]
  },
  {
   "cell_type": "markdown",
   "id": "fbd7d586",
   "metadata": {},
   "source": [
    "I - сила тока, N  - число витков катушки, r0 - радиус катушки, b - угол. под которым из точки наблюдения виден радиус кольцевой катушки."
   ]
  },
  {
   "cell_type": "markdown",
   "id": "91ac01dd",
   "metadata": {},
   "source": [
    "$N = 560 \\\\\n",
    "\\mu_0 = 1,257*10^{-6} \\frac{Н}{А^2}\\\\\n",
    "r_0 = 0,177 м\\\\\n",
    "\\sin\\beta=\\frac{r_0}{\\sqrt{r_0^2+x^2}}$"
   ]
  },
  {
   "cell_type": "code",
   "execution_count": 111,
   "id": "2897bf52",
   "metadata": {},
   "outputs": [],
   "source": [
    "def Btheory (I, x):\n",
    "    gypot = (r0**2 + (x*0.001)**2)**(0.5)\n",
    "    sinb = r0/gypot\n",
    "    B = (m0*I*N*(sinb**3))/(2*r0)\n",
    "    return B\n",
    "\n",
    "N =560\n",
    "m0 = 1.257*(10**(-6))\n",
    "r0=0.177\n",
    "\n",
    "x2t = []\n",
    "B2t = []\n",
    "\n",
    "x4t = []\n",
    "B4t = []\n",
    "\n",
    "x6t = []\n",
    "B6t = []\n",
    "\n",
    "for i in data:\n",
    "    if i[0] == 0.2:\n",
    "        x2t.append (i[1])\n",
    "        B2t.append (Btheory(0.2, i[1]))\n",
    "    if i[0] == 0.4:\n",
    "        x4t.append (i[1])\n",
    "        B4t.append (Btheory(0.4, i[1]))\n",
    "    if i[0] == 0.6:\n",
    "        x6t.append (i[1])\n",
    "        B6t.append (Btheory(0.6, i[1]))"
   ]
  },
  {
   "cell_type": "markdown",
   "id": "ecf25efa",
   "metadata": {},
   "source": [
    "Объединение графиков эксперимента и теоретических подсчётов:"
   ]
  },
  {
   "cell_type": "code",
   "execution_count": 66,
   "id": "37a556a3",
   "metadata": {
    "scrolled": true
   },
   "outputs": [
    {
     "data": {
      "text/plain": [
       "<matplotlib.legend.Legend at 0x1ace7f38590>"
      ]
     },
     "execution_count": 66,
     "metadata": {},
     "output_type": "execute_result"
    },
    {
     "data": {
      "image/png": "[encoded data removed]",
      "text/plain": [
       "<Figure size 640x480 with 1 Axes>"
      ]
     },
     "metadata": {},
     "output_type": "display_data"
    }
   ],
   "source": [
    "plt.plot (x2, B2)\n",
    "plt.plot (x4, B4)\n",
    "plt.plot (x6, B6)\n",
    "\n",
    "plt.plot (x2t, B2t)\n",
    "plt.plot (x4t, B4t)\n",
    "plt.plot (x6t, B6t)\n",
    "\n",
    "plt.xlabel (\"Расстояние, мм\")\n",
    "plt.ylabel (\"Индукция магнитного поля, Тл\")\n",
    "\n",
    "plt.legend ([\"I=0,2 experiment\",\"I=0,4 experiment\", \"I=0,6 experiment\", \"I=0,2 theory\",\"I=0,4 theory\", \"I=0,6 theory\"])"
   ]
  },
  {
   "cell_type": "markdown",
   "id": "e65db224",
   "metadata": {},
   "source": [
    "**Вывод:** Графики теоретических и экспериментальных значений очень близки при значении силы тока 0,2 А. При бОльших значениях силы тока значения становятся близкими при бОльших значениях расстояния от катушки до поля. При меньших значениях расстояния экспериментальные значения больше теоретических, что может быть связано с неточностями в подсчёте отклонения зайчика гальванометра."
   ]
  },
  {
   "cell_type": "markdown",
   "id": "3d051b48",
   "metadata": {},
   "source": [
    "### Задание 2"
   ]
  },
  {
   "cell_type": "markdown",
   "id": "33156902",
   "metadata": {},
   "source": [
    "Изучение зависимости величины магнитного потока через \n",
    "измерительную катушку Lи от ее ориентации.\n",
    "Изучение зависимости величины магнитного потока через измерительную \n",
    "катушку Lи от ее ориентации проводится при одном фиксированном \n",
    "положении измерительной катушки на оси кругового тока. "
   ]
  },
  {
   "cell_type": "code",
   "execution_count": 105,
   "id": "e18ab963",
   "metadata": {},
   "outputs": [
    {
     "name": "stdout",
     "output_type": "stream",
     "text": [
      "[[0.2, 0.0, 33.0, 32.0, 30.0, 30.0], [0.2, 30.0, 26.0, 31.0, 22.0, 24.0], [0.2, 45.0, 23.0, 24.0, 21.0, 20.0], [0.2, 90.0, 1.0, 2.0, 1.0, 1.0], [0.2, 135.0, 23.0, 23.0, 18.0, 20.0], [0.2, 180.0, 36.0, 35.0, 33.0, 33.0]]\n"
     ]
    }
   ],
   "source": [
    "file_path = \"33.1_tab2.csv\"\n",
    "data1 = read_csv_file (file_path)\n",
    "\n",
    "data1 = preprocessing_data(data1)\n",
    "print (data1)"
   ]
  },
  {
   "cell_type": "markdown",
   "id": "ac1b5ab7",
   "metadata": {},
   "source": [
    "Подсчёт среднего значения отброса:"
   ]
  },
  {
   "cell_type": "code",
   "execution_count": 106,
   "id": "15c4215c",
   "metadata": {},
   "outputs": [
    {
     "name": "stdout",
     "output_type": "stream",
     "text": [
      "[[0.2, 0.0, 33.0, 32.0, 30.0, 30.0, 31.25], [0.2, 30.0, 26.0, 31.0, 22.0, 24.0, 25.75], [0.2, 45.0, 23.0, 24.0, 21.0, 20.0, 22.0], [0.2, 90.0, 1.0, 2.0, 1.0, 1.0, 1.25], [0.2, 135.0, 23.0, 23.0, 18.0, 20.0, 21.0], [0.2, 180.0, 36.0, 35.0, 33.0, 33.0, 34.25]]\n"
     ]
    }
   ],
   "source": [
    "for i in data1:\n",
    "    average_m = (i[2]+i[3]+i[4]+i[5])/4\n",
    "    i.append (average_m)\n",
    "print (data1)"
   ]
  },
  {
   "cell_type": "markdown",
   "id": "18f8d726",
   "metadata": {},
   "source": [
    "Формула для подсчёта величины магнитного потока:"
   ]
  },
  {
   "cell_type": "markdown",
   "id": "65156200",
   "metadata": {},
   "source": [
    "$\\Phi=\\frac{1}{2}k<m>R$"
   ]
  },
  {
   "cell_type": "markdown",
   "id": "9561f91f",
   "metadata": {},
   "source": [
    "Постоянные для подсчёта величины магнитного потока:"
   ]
  },
  {
   "cell_type": "markdown",
   "id": "b3c36a07",
   "metadata": {},
   "source": [
    "$k=0, 42*10^{-5}Кл\\дел.$"
   ]
  },
  {
   "cell_type": "markdown",
   "id": "81492a73",
   "metadata": {},
   "source": [
    "$R=440Oм$"
   ]
  },
  {
   "cell_type": "code",
   "execution_count": 107,
   "id": "7f3926cd",
   "metadata": {},
   "outputs": [
    {
     "name": "stdout",
     "output_type": "stream",
     "text": [
      "[[0.2, 0.0, 33.0, 32.0, 30.0, 30.0, 31.25, 0.028875000000000005], [0.2, 30.0, 26.0, 31.0, 22.0, 24.0, 25.75, 0.023793], [0.2, 45.0, 23.0, 24.0, 21.0, 20.0, 22.0, 0.020328000000000002], [0.2, 90.0, 1.0, 2.0, 1.0, 1.0, 1.25, 0.0011550000000000002], [0.2, 135.0, 23.0, 23.0, 18.0, 20.0, 21.0, 0.019404], [0.2, 180.0, 36.0, 35.0, 33.0, 33.0, 34.25, 0.03164700000000001]]\n"
     ]
    }
   ],
   "source": [
    "R = 440\n",
    "k = 0.42*10**(-5)\n",
    "\n",
    "for i in data1:\n",
    "    F = 0.5*k*i[-1]*R\n",
    "    i.append(F)\n",
    "\n",
    "print (data1)"
   ]
  },
  {
   "cell_type": "code",
   "execution_count": 108,
   "id": "2d10d771",
   "metadata": {},
   "outputs": [],
   "source": [
    "columns = ['I, A', 'угол, градусы', 'm влево 1, дел', 'm влево 2, дел', 'm вправо 1, дел','m вправо 2, дел','<m>, дел', 'Магнитный поток, Вб']\n",
    "tab1 = pd.DataFrame(columns=columns)\n",
    "for i in range(len(data1)):\n",
    "    line = data1[i]\n",
    "    temp_df = pd.DataFrame([line], columns=columns)\n",
    "    tab1 = pd.concat([tab1, temp_df], ignore_index=True)"
   ]
  },
  {
   "cell_type": "markdown",
   "id": "2e737a00",
   "metadata": {},
   "source": [
    "Таблица с результатами:"
   ]
  },
  {
   "cell_type": "code",
   "execution_count": 109,
   "id": "3d56d708",
   "metadata": {},
   "outputs": [
    {
     "data": {
      "text/html": [
       "<div>\n",
       "<style scoped>\n",
       "    .dataframe tbody tr th:only-of-type {\n",
       "        vertical-align: middle;\n",
       "    }\n",
       "\n",
       "    .dataframe tbody tr th {\n",
       "        vertical-align: top;\n",
       "    }\n",
       "\n",
       "    .dataframe thead th {\n",
       "        text-align: right;\n",
       "    }\n",
       "</style>\n",
       "<table border=\"1\" class=\"dataframe\">\n",
       "  <thead>\n",
       "    <tr style=\"text-align: right;\">\n",
       "      <th></th>\n",
       "      <th>I, A</th>\n",
       "      <th>угол, градусы</th>\n",
       "      <th>m влево 1, дел</th>\n",
       "      <th>m влево 2, дел</th>\n",
       "      <th>m вправо 1, дел</th>\n",
       "      <th>m вправо 2, дел</th>\n",
       "      <th>&lt;m&gt;, дел</th>\n",
       "      <th>Магнитный поток, Вб</th>\n",
       "    </tr>\n",
       "  </thead>\n",
       "  <tbody>\n",
       "    <tr>\n",
       "      <th>0</th>\n",
       "      <td>0.2</td>\n",
       "      <td>0.0</td>\n",
       "      <td>33.0</td>\n",
       "      <td>32.0</td>\n",
       "      <td>30.0</td>\n",
       "      <td>30.0</td>\n",
       "      <td>31.25</td>\n",
       "      <td>0.028875</td>\n",
       "    </tr>\n",
       "    <tr>\n",
       "      <th>1</th>\n",
       "      <td>0.2</td>\n",
       "      <td>30.0</td>\n",
       "      <td>26.0</td>\n",
       "      <td>31.0</td>\n",
       "      <td>22.0</td>\n",
       "      <td>24.0</td>\n",
       "      <td>25.75</td>\n",
       "      <td>0.023793</td>\n",
       "    </tr>\n",
       "    <tr>\n",
       "      <th>2</th>\n",
       "      <td>0.2</td>\n",
       "      <td>45.0</td>\n",
       "      <td>23.0</td>\n",
       "      <td>24.0</td>\n",
       "      <td>21.0</td>\n",
       "      <td>20.0</td>\n",
       "      <td>22.00</td>\n",
       "      <td>0.020328</td>\n",
       "    </tr>\n",
       "    <tr>\n",
       "      <th>3</th>\n",
       "      <td>0.2</td>\n",
       "      <td>90.0</td>\n",
       "      <td>1.0</td>\n",
       "      <td>2.0</td>\n",
       "      <td>1.0</td>\n",
       "      <td>1.0</td>\n",
       "      <td>1.25</td>\n",
       "      <td>0.001155</td>\n",
       "    </tr>\n",
       "    <tr>\n",
       "      <th>4</th>\n",
       "      <td>0.2</td>\n",
       "      <td>135.0</td>\n",
       "      <td>23.0</td>\n",
       "      <td>23.0</td>\n",
       "      <td>18.0</td>\n",
       "      <td>20.0</td>\n",
       "      <td>21.00</td>\n",
       "      <td>0.019404</td>\n",
       "    </tr>\n",
       "    <tr>\n",
       "      <th>5</th>\n",
       "      <td>0.2</td>\n",
       "      <td>180.0</td>\n",
       "      <td>36.0</td>\n",
       "      <td>35.0</td>\n",
       "      <td>33.0</td>\n",
       "      <td>33.0</td>\n",
       "      <td>34.25</td>\n",
       "      <td>0.031647</td>\n",
       "    </tr>\n",
       "  </tbody>\n",
       "</table>\n",
       "</div>"
      ],
      "text/plain": [
       "   I, A  угол, градусы  m влево 1, дел  m влево 2, дел  m вправо 1, дел  \\\n",
       "0   0.2            0.0            33.0            32.0             30.0   \n",
       "1   0.2           30.0            26.0            31.0             22.0   \n",
       "2   0.2           45.0            23.0            24.0             21.0   \n",
       "3   0.2           90.0             1.0             2.0              1.0   \n",
       "4   0.2          135.0            23.0            23.0             18.0   \n",
       "5   0.2          180.0            36.0            35.0             33.0   \n",
       "\n",
       "   m вправо 2, дел  <m>, дел  Магнитный поток, Вб  \n",
       "0             30.0     31.25             0.028875  \n",
       "1             24.0     25.75             0.023793  \n",
       "2             20.0     22.00             0.020328  \n",
       "3              1.0      1.25             0.001155  \n",
       "4             20.0     21.00             0.019404  \n",
       "5             33.0     34.25             0.031647  "
      ]
     },
     "execution_count": 109,
     "metadata": {},
     "output_type": "execute_result"
    }
   ],
   "source": [
    "tab1"
   ]
  },
  {
   "cell_type": "markdown",
   "id": "2502f8fc",
   "metadata": {},
   "source": [
    "График с зависимостью $\\Phi=f(\\alpha)$"
   ]
  },
  {
   "cell_type": "code",
   "execution_count": 110,
   "id": "e2576de7",
   "metadata": {},
   "outputs": [
    {
     "data": {
      "text/plain": [
       "Text(0, 0.5, 'Магнитный поток, Вб')"
      ]
     },
     "execution_count": 110,
     "metadata": {},
     "output_type": "execute_result"
    },
    {
     "data": {
      "image/png": "[encoded data removed]",
      "text/plain": [
       "<Figure size 640x480 with 1 Axes>"
      ]
     },
     "metadata": {},
     "output_type": "display_data"
    }
   ],
   "source": [
    "alpha = []\n",
    "phi = []\n",
    "\n",
    "for i in data1:\n",
    "    alpha.append (i[1])\n",
    "    phi.append (i[-1])\n",
    "        \n",
    "plt.plot (alpha, phi)\n",
    "\n",
    "plt.xlabel (\"Угол, градусы\")\n",
    "plt.ylabel (\"Магнитный поток, Вб\")"
   ]
  },
  {
   "cell_type": "markdown",
   "id": "b2f21678",
   "metadata": {},
   "source": [
    "Формула потока вектора напряжённости: $\\Phi = \\int_S\\overrightarrow{B}d\\overrightarrow{S}=\\int B \\cos \\alpha dS$. Посчитаем теоретическое значения потока вектора напряжённости:"
   ]
  },
  {
   "cell_type": "markdown",
   "id": "0ea57200",
   "metadata": {},
   "source": [
    "$B = 0.000272 Тл\\\\\n",
    "dS=\\pi r_0^2$"
   ]
  },
  {
   "cell_type": "code",
   "execution_count": 93,
   "id": "904ec160",
   "metadata": {},
   "outputs": [
    {
     "name": "stdout",
     "output_type": "stream",
     "text": [
      "0.0984200535\n",
      "[2.6770254552e-05, 2.3183927201725756e-05, 1.8929866992607435e-05, 1.2401800915147593e-09, 1.8929866992607435e-05, 2.6770254552e-05]\n"
     ]
    },
    {
     "data": {
      "text/plain": [
       "Text(0, 0.5, 'Магнитный поток, Вб')"
      ]
     },
     "execution_count": 93,
     "metadata": {},
     "output_type": "execute_result"
    },
    {
     "data": {
      "image/png": "[encoded data removed]",
      "text/plain": [
       "<Figure size 640x480 with 1 Axes>"
      ]
     },
     "metadata": {},
     "output_type": "display_data"
    }
   ],
   "source": [
    "B50=0.000272\n",
    "r0=0.177\n",
    "dS = 3.1415*r0**2\n",
    "phitheory = []\n",
    "phitheory.append (B50*dS*math.cos(0))\n",
    "phitheory.append (B50*dS*math.cos(3.1415/6))\n",
    "phitheory.append (B50*dS*math.cos(3.1415/4))\n",
    "phitheory.append (B50*dS*math.cos(3.1415/2))\n",
    "phitheory.append (B50*dS*math.cos(3.1415/4))\n",
    "phitheory.append (B50*dS*math.cos(0))\n",
    "        \n",
    "plt.plot (alpha, phitheory)\n",
    "\n",
    "print (phitheory)\n",
    "\n",
    "plt.xlabel (\"Угол, градусы\")\n",
    "plt.ylabel (\"Магнитный поток, Вб\")"
   ]
  },
  {
   "cell_type": "markdown",
   "id": "70b63d5c",
   "metadata": {},
   "source": [
    "**Вывод:** Форма графика для теоретических и экспериментальных значений совпадает. Значения отличаются на два порядка. Причина не найдена."
   ]
  },
  {
   "cell_type": "markdown",
   "id": "034190a3",
   "metadata": {},
   "source": [
    "### Заключение"
   ]
  },
  {
   "cell_type": "markdown",
   "id": "347f4663",
   "metadata": {},
   "source": [
    "В ходе лабораторной работы были исследованы зависимости значения магнитной индукции и магнитного потока в зависимости от росстояния катушки до поля и её угла поворота относительно этого поля."
   ]
  },
  {
   "cell_type": "code",
   "execution_count": null,
   "id": "efe0ec5f",
   "metadata": {},
   "outputs": [],
   "source": []
  }
 ],
 "metadata": {
  "kernelspec": {
   "display_name": "Python 3 (ipykernel)",
   "language": "python",
   "name": "python3"
  },
  "language_info": {
   "codemirror_mode": {
    "name": "ipython",
    "version": 3
   },
   "file_extension": ".py",
   "mimetype": "text/x-python",
   "name": "python",
   "nbconvert_exporter": "python",
   "pygments_lexer": "ipython3",
   "version": "3.11.5"
  }
 },
 "nbformat": 4,
 "nbformat_minor": 5
}
