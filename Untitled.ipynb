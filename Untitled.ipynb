{
 "cells": [
  {
   "cell_type": "markdown",
   "id": "6cbc60e1",
   "metadata": {},
   "source": [
    "# Лабораторная работа 33.1"
   ]
  },
  {
   "cell_type": "markdown",
   "id": "c95c1241",
   "metadata": {},
   "source": [
    "### Препроцессинг данных"
   ]
  },
  {
   "cell_type": "markdown",
   "id": "123ac926",
   "metadata": {},
   "source": [
    "Код подключает необходимые билиотеки и проводит обработку данных из таблиц с данными для работы со значениями силы тока и напряжения, полученных при эксперименте."
   ]
  },
  {
   "cell_type": "code",
   "execution_count": 6,
   "id": "ce244436",
   "metadata": {},
   "outputs": [],
   "source": [
    "from csv import *\n",
    "import pandas as pd\n",
    "import matplotlib.pyplot as plt\n",
    "import numpy as np"
   ]
  },
  {
   "cell_type": "code",
   "execution_count": 16,
   "id": "c9163479",
   "metadata": {},
   "outputs": [],
   "source": [
    "def read_csv_file (path):\n",
    "    with open (file_path, 'r') as file:\n",
    "        data = file.readlines()\n",
    "    return data\n",
    "\n",
    "def preprocessing_data(data):\n",
    "    data = data [1:]\n",
    "    for i in range (len(data)):\n",
    "        data[i] = data[i].split(';')\n",
    "        for j in range (len(data[i])-1):\n",
    "            data[i][j] = float (data[i][j])\n",
    "        data[i][len(data[i])-1] = float (data[i][len(data[i])-1][:-1])\n",
    "    return data"
   ]
  },
  {
   "cell_type": "markdown",
   "id": "cd8ebf8b",
   "metadata": {},
   "source": [
    "### Задание 1"
   ]
  },
  {
   "cell_type": "markdown",
   "id": "98b40a64",
   "metadata": {},
   "source": [
    "Исследование зависимости индукции магнитного поля на оси \n",
    "кольцевой катушки от расстояния x от ее центра (B = f (x)) при различных значениях силы тока в катушке."
   ]
  },
  {
   "cell_type": "code",
   "execution_count": 18,
   "id": "1a61879f",
   "metadata": {},
   "outputs": [
    {
     "name": "stdout",
     "output_type": "stream",
     "text": [
      "[[0.2, 0.0, 44.0, 41.0, 42.0, 44.0], [0.2, 20.0, 42.0, 40.0, 42.0, 39.0], [0.2, 50.0, 33.0, 32.0, 32.0, 30.0], [0.2, 100.0, 19.0, 21.0, 15.0, 15.0], [0.2, 150.0, 10.0, 7.0, 5.0, 6.0], [0.2, 200.0, 6.0, 7.0, 3.0, 3.0], [0.2, 250.0, 4.0, 6.0, 2.0, 2.0], [0.4, 0.0, 200.0, 190.0, 200.0, 220.0], [0.4, 20.0, 200.0, 170.0, 180.0, 160.0], [0.4, 50.0, 130.0, 160.0, 100.0, 110.0], [0.4, 100.0, 150.0, 90.0, 60.0, 60.0], [0.4, 150.0, 90.0, 50.0, 40.0, 30.0], [0.4, 200.0, 20.0, 20.0, 20.0, 20.0], [0.4, 250.0, 10.0, 20.0, 20.0, 20.0], [0.6, 0.0, 290.0, 280.0, 300.0, 380.0], [0.6, 20.0, 270.0, 270.0, 280.0, 270.0], [0.6, 50.0, 210.0, 230.0, 190.0, 210.0], [0.6, 100.0, 120.0, 120.0, 100.0, 110.0], [0.6, 150.0, 70.0, 70.0, 40.0, 30.0], [0.6, 200.0, 20.0, 20.0, 20.0, 20.0], [0.6, 250.0, 20.0, 30.0, 20.0, 10.0]]\n"
     ]
    }
   ],
   "source": [
    "file_path = \"33.1_tab1.csv\"\n",
    "data = read_csv_file (file_path)\n",
    "\n",
    "data = preprocessing_data(data)\n",
    "print (data)"
   ]
  },
  {
   "cell_type": "code",
   "execution_count": null,
   "id": "f24bf76a",
   "metadata": {},
   "outputs": [],
   "source": []
  }
 ],
 "metadata": {
  "kernelspec": {
   "display_name": "Python 3 (ipykernel)",
   "language": "python",
   "name": "python3"
  },
  "language_info": {
   "codemirror_mode": {
    "name": "ipython",
    "version": 3
   },
   "file_extension": ".py",
   "mimetype": "text/x-python",
   "name": "python",
   "nbconvert_exporter": "python",
   "pygments_lexer": "ipython3",
   "version": "3.11.5"
  }
 },
 "nbformat": 4,
 "nbformat_minor": 5
}
